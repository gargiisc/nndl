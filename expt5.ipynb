{
  "cells": [
    {
      "cell_type": "markdown",
      "metadata": {
        "id": "view-in-github",
        "colab_type": "text"
      },
      "source": [
        "<a href=\"https://colab.research.google.com/github/gargiisc/nndl/blob/main/expt5.ipynb\" target=\"_parent\"><img src=\"https://colab.research.google.com/assets/colab-badge.svg\" alt=\"Open In Colab\"/></a>"
      ]
    },
    {
      "cell_type": "code",
      "execution_count": 2,
      "id": "5eb2c372-3dae-4bb2-8957-8e72e12b7747",
      "metadata": {
        "id": "5eb2c372-3dae-4bb2-8957-8e72e12b7747"
      },
      "outputs": [],
      "source": [
        "import numpy as np\n",
        "import pandas as pd"
      ]
    },
    {
      "cell_type": "code",
      "execution_count": 3,
      "id": "205a1c0d-c7fe-4188-a90c-37b7afe949f9",
      "metadata": {
        "id": "205a1c0d-c7fe-4188-a90c-37b7afe949f9"
      },
      "outputs": [],
      "source": [
        "w=np.array([1,-1,0,0.5]).transpose()\n",
        "Xi=[np.array([1,-2,0,-1]).transpose(), np.array([0, 1.5, -0.5, -1]).transpose(), np.array([-1, 1, 0.5, -1]).transpose()]\n",
        "c=0.1\n",
        "d=[-1, -1, 1]\n",
        "i=0"
      ]
    },
    {
      "cell_type": "code",
      "execution_count": 6,
      "id": "059be1af-d33f-4505-966f-28053354b60e",
      "metadata": {
        "colab": {
          "base_uri": "https://localhost:8080/"
        },
        "id": "059be1af-d33f-4505-966f-28053354b60e",
        "outputId": "333cf197-1cc6-4427-c55b-346b1108621f"
      },
      "outputs": [
        {
          "output_type": "stream",
          "name": "stdout",
          "text": [
            "Net:  2.5\n",
            "O:  1.0\n",
            "fnet:  -2.0\n",
            "[-0.2  0.4 -0.   0.2]\n",
            "weight vector: [ 0.8 -0.6  0.   0.7]\n",
            "Net:  -1.5999999999999999\n",
            "O:  -1.0\n",
            "fnet:  0.0\n",
            "[ 0.  0. -0. -0.]\n",
            "weight vector: [ 0.8 -0.6  0.   0.7]\n",
            "Net:  -2.0999999999999996\n",
            "O:  -1.0\n",
            "fnet:  2.0\n",
            "[-0.2  0.2  0.1 -0.2]\n",
            "weight vector: [ 0.6 -0.4  0.1  0.5]\n"
          ]
        }
      ],
      "source": [
        "for i in range(len(Xi)):\n",
        "    net=sum(w.transpose()*Xi[i])\n",
        "    print(\"Net: \", net)\n",
        "    o=np.sign(net)\n",
        "    print(\"O: \", o)\n",
        "    r=d[i]-o\n",
        "    print(\"fnet: \", r)\n",
        "    dw=c*r*Xi[i]\n",
        "    print(dw)\n",
        "    w=w+dw\n",
        "    print('weight vector:',w)\n",
        "    i+=1"
      ]
    },
    {
      "cell_type": "code",
      "execution_count": 7,
      "id": "3a38a6a7-1316-454a-8f1d-a79994989f8a",
      "metadata": {
        "colab": {
          "base_uri": "https://localhost:8080/"
        },
        "id": "3a38a6a7-1316-454a-8f1d-a79994989f8a",
        "outputId": "474aa0df-6167-4627-80a3-d07ff7b0a5de"
      },
      "outputs": [
        {
          "output_type": "stream",
          "name": "stdout",
          "text": [
            "Final vector:  [ 0.6 -0.4  0.1  0.5]\n",
            "No. of iterations:  3\n"
          ]
        }
      ],
      "source": [
        "print('Final vector: ', w)\n",
        "print('No. of iterations: ', i)"
      ]
    },
    {
      "cell_type": "code",
      "execution_count": null,
      "id": "6ce01cee-08c3-400b-81db-8b2f7cb1474f",
      "metadata": {
        "id": "6ce01cee-08c3-400b-81db-8b2f7cb1474f"
      },
      "outputs": [],
      "source": []
    }
  ],
  "metadata": {
    "kernelspec": {
      "display_name": "Python 3 (ipykernel)",
      "language": "python",
      "name": "python3"
    },
    "language_info": {
      "codemirror_mode": {
        "name": "ipython",
        "version": 3
      },
      "file_extension": ".py",
      "mimetype": "text/x-python",
      "name": "python",
      "nbconvert_exporter": "python",
      "pygments_lexer": "ipython3",
      "version": "3.12.4"
    },
    "colab": {
      "provenance": [],
      "include_colab_link": true
    }
  },
  "nbformat": 4,
  "nbformat_minor": 5
}