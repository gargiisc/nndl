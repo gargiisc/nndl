{
  "nbformat": 4,
  "nbformat_minor": 0,
  "metadata": {
    "colab": {
      "provenance": [],
      "authorship_tag": "ABX9TyOID6Ksho2QSM7ao4R+YdCx",
      "include_colab_link": true
    },
    "kernelspec": {
      "name": "python3",
      "display_name": "Python 3"
    },
    "language_info": {
      "name": "python"
    }
  },
  "cells": [
    {
      "cell_type": "markdown",
      "metadata": {
        "id": "view-in-github",
        "colab_type": "text"
      },
      "source": [
        "<a href=\"https://colab.research.google.com/github/gargiisc/nndl/blob/main/SDPTA.ipynb\" target=\"_parent\"><img src=\"https://colab.research.google.com/assets/colab-badge.svg\" alt=\"Open In Colab\"/></a>"
      ]
    },
    {
      "cell_type": "code",
      "execution_count": 1,
      "metadata": {
        "id": "y3udyPaB4tZ4"
      },
      "outputs": [],
      "source": [
        "import numpy as np\n",
        "import pandas as pd"
      ]
    },
    {
      "cell_type": "code",
      "source": [
        "w=np.array([[1,-1,0,0.5]]).T\n",
        "xi=np.array([[1,-2,0,1], [0,1.5,0.5,-1], [-1,1,0.5,-1]]).T\n",
        "d=np.array([-1,1,1])\n",
        "c=0.1\n",
        "error=-1\n",
        "i=0\n",
        "print(\"Intial Weights: \\n\", w)"
      ],
      "metadata": {
        "colab": {
          "base_uri": "https://localhost:8080/"
        },
        "id": "H7Qtg3T844f0",
        "outputId": "dd70cf98-ad65-4234-dd14-cbf406edb5c3"
      },
      "execution_count": 2,
      "outputs": [
        {
          "output_type": "stream",
          "name": "stdout",
          "text": [
            "Intial Weights: \n",
            " [[ 1. ]\n",
            " [-1. ]\n",
            " [ 0. ]\n",
            " [ 0.5]]\n"
          ]
        }
      ]
    },
    {
      "cell_type": "code",
      "source": [
        "while error!=0:\n",
        "  error=0\n",
        "  for i in range(len(xi.T)):\n",
        "    net=np.sum(w.T @ xi[:, i])\n",
        "    print(f\"Iteration {i+1}, Sample {i+1}: Net Input: {net:.4f}\")\n",
        "    o=1 if net>=0 else -1\n",
        "    e=d[i]-o\n",
        "    error += 0.5*e**2\n",
        "    dw=c*e*xi[:,i].reshape(-1,1)\n",
        "    w+=dw\n",
        "    print(f\"Error: {e:.4f}\")\n",
        "    print(f\"Updated Weights:\\n{w.T}\\n\")\n",
        "    i+=1\n",
        "    if e==0:\n",
        "      break\n",
        "  print(\"\\nFinal Weight Matrix:\\n\", w)"
      ],
      "metadata": {
        "colab": {
          "base_uri": "https://localhost:8080/"
        },
        "id": "tnA8MVZmgtvu",
        "outputId": "08b902f6-d4c6-4924-eeb5-63e6729f6813"
      },
      "execution_count": 3,
      "outputs": [
        {
          "output_type": "stream",
          "name": "stdout",
          "text": [
            "Iteration 1, Sample 1: Net Input: 3.5000\n",
            "Error: -2.0000\n",
            "Updated Weights:\n",
            "[[ 0.8 -0.6  0.   0.3]]\n",
            "\n",
            "Iteration 2, Sample 2: Net Input: -1.2000\n",
            "Error: 2.0000\n",
            "Updated Weights:\n",
            "[[ 0.8 -0.3  0.1  0.1]]\n",
            "\n",
            "Iteration 3, Sample 3: Net Input: -1.1500\n",
            "Error: 2.0000\n",
            "Updated Weights:\n",
            "[[ 0.6 -0.1  0.2 -0.1]]\n",
            "\n",
            "\n",
            "Final Weight Matrix:\n",
            " [[ 0.6]\n",
            " [-0.1]\n",
            " [ 0.2]\n",
            " [-0.1]]\n",
            "Iteration 1, Sample 1: Net Input: 0.7000\n",
            "Error: -2.0000\n",
            "Updated Weights:\n",
            "[[ 0.4  0.3  0.2 -0.3]]\n",
            "\n",
            "Iteration 2, Sample 2: Net Input: 0.8500\n",
            "Error: 0.0000\n",
            "Updated Weights:\n",
            "[[ 0.4  0.3  0.2 -0.3]]\n",
            "\n",
            "\n",
            "Final Weight Matrix:\n",
            " [[ 0.4]\n",
            " [ 0.3]\n",
            " [ 0.2]\n",
            " [-0.3]]\n",
            "Iteration 1, Sample 1: Net Input: -0.5000\n",
            "Error: 0.0000\n",
            "Updated Weights:\n",
            "[[ 0.4  0.3  0.2 -0.3]]\n",
            "\n",
            "\n",
            "Final Weight Matrix:\n",
            " [[ 0.4]\n",
            " [ 0.3]\n",
            " [ 0.2]\n",
            " [-0.3]]\n"
          ]
        }
      ]
    },
    {
      "cell_type": "code",
      "source": [],
      "metadata": {
        "id": "IJzymLOJjQX9"
      },
      "execution_count": null,
      "outputs": []
    }
  ]
}