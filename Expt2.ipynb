{
  "cells": [
    {
      "cell_type": "markdown",
      "metadata": {
        "id": "view-in-github",
        "colab_type": "text"
      },
      "source": [
        "<a href=\"https://colab.research.google.com/github/gargiisc/nndl/blob/main/Expt2.ipynb\" target=\"_parent\"><img src=\"https://colab.research.google.com/assets/colab-badge.svg\" alt=\"Open In Colab\"/></a>"
      ]
    },
    {
      "cell_type": "code",
      "execution_count": null,
      "id": "2c4f5d13-081c-4b33-8f72-6d42633ca210",
      "metadata": {
        "id": "2c4f5d13-081c-4b33-8f72-6d42633ca210",
        "outputId": "3f2217a4-b8eb-48b3-d594-97d6db03ac9b",
        "colab": {
          "base_uri": "https://localhost:8080/"
        }
      },
      "outputs": [
        {
          "output_type": "stream",
          "name": "stdout",
          "text": [
            "Input Vector: [0 1 1], Weight Vector[-1  1  1]\n"
          ]
        }
      ],
      "source": [
        "#Step1: Generate a vector of inputs and a vector of weights\n",
        "import numpy as np\n",
        "np.random.seed(seed=0)\n",
        "I=np.random.choice([0,1], 3)\n",
        "W=np.random.choice([-1,1], 3)\n",
        "print(f'Input Vector: {I}, Weight Vector{W}')"
      ]
    },
    {
      "cell_type": "markdown",
      "source": [],
      "metadata": {
        "id": "4v4XDg0vY3wb"
      },
      "id": "4v4XDg0vY3wb"
    },
    {
      "cell_type": "code",
      "execution_count": null,
      "id": "6aa51a27-b46f-4c52-b679-a7e3c934b476",
      "metadata": {
        "id": "6aa51a27-b46f-4c52-b679-a7e3c934b476",
        "outputId": "5031cb98-0bee-41d9-ab89-79a9cb6544b4",
        "colab": {
          "base_uri": "https://localhost:8080/"
        }
      },
      "outputs": [
        {
          "output_type": "stream",
          "name": "stdout",
          "text": [
            "Dot Product: 2\n"
          ]
        }
      ],
      "source": [
        "#step 2:  Calculate Dot Product\n",
        "dot = I@W\n",
        "print(f'Dot Product: {dot}')"
      ]
    },
    {
      "cell_type": "code",
      "execution_count": null,
      "id": "9af8b48d-7f33-484c-b248-4986f9552d9b",
      "metadata": {
        "id": "9af8b48d-7f33-484c-b248-4986f9552d9b"
      },
      "outputs": [],
      "source": [
        "#step 3: Define the threshold activation function\n",
        "def linear_threshold_gate (dot: int, T: float) -> int:\n",
        "    if dot >= T:\n",
        "        return 1\n",
        "    else:\n",
        "        return 0"
      ]
    },
    {
      "cell_type": "code",
      "execution_count": null,
      "id": "3085297d-f917-4c83-ad35-14b7ffa9e708",
      "metadata": {
        "id": "3085297d-f917-4c83-ad35-14b7ffa9e708",
        "outputId": "96051275-20bd-4dc1-d3dd-74df6a4d5f2e",
        "colab": {
          "base_uri": "https://localhost:8080/"
        }
      },
      "outputs": [
        {
          "output_type": "stream",
          "name": "stdout",
          "text": [
            "Activation: 1\n"
          ]
        }
      ],
      "source": [
        "# Compute the output based on threshold value\n",
        "T = 1\n",
        "activation = linear_threshold_gate(dot, T)\n",
        "print(f'Activation: {activation}')"
      ]
    },
    {
      "cell_type": "code",
      "execution_count": null,
      "id": "1e15ad9b-74ad-4d3e-bf81-f468650af783",
      "metadata": {
        "id": "1e15ad9b-74ad-4d3e-bf81-f468650af783",
        "outputId": "506457d2-190b-4a4e-e7a6-4aeb62c78ab4",
        "colab": {
          "base_uri": "https://localhost:8080/"
        }
      },
      "outputs": [
        {
          "output_type": "stream",
          "name": "stdout",
          "text": [
            "Activation: 0\n"
          ]
        }
      ],
      "source": [
        "T = 3\n",
        "activation = linear_threshold_gate(dot, T)\n",
        "print(f'Activation: {activation}')"
      ]
    },
    {
      "cell_type": "code",
      "execution_count": null,
      "id": "c7320e49-e77d-4ae6-84a7-b59dcb576379",
      "metadata": {
        "id": "c7320e49-e77d-4ae6-84a7-b59dcb576379",
        "outputId": "9b624774-52a5-4f09-8bb6-225b633fb64d",
        "colab": {
          "base_uri": "https://localhost:8080/"
        }
      },
      "outputs": [
        {
          "output_type": "stream",
          "name": "stdout",
          "text": [
            "input table:\n",
            "[[0 0]\n",
            " [0 1]\n",
            " [1 0]\n",
            " [1 1]]\n"
          ]
        }
      ],
      "source": [
        "#and\n",
        "#weights: all positive\n",
        "#threshold: 2\n",
        "input_table = np.array([[0,0], [0,1], [1,0], [1,1]])\n",
        "print(f'input table:\\n{input_table}')"
      ]
    },
    {
      "cell_type": "code",
      "execution_count": null,
      "id": "48721b3d-0485-45ee-8545-231eb1d1081a",
      "metadata": {
        "id": "48721b3d-0485-45ee-8545-231eb1d1081a",
        "outputId": "d3f4151c-1a52-4846-afd1-28fa983950f6",
        "colab": {
          "base_uri": "https://localhost:8080/"
        }
      },
      "outputs": [
        {
          "output_type": "stream",
          "name": "stdout",
          "text": [
            "weights: [1 1]\n"
          ]
        }
      ],
      "source": [
        "weights = np.array([1,1])\n",
        "print(f'weights: {weights}')"
      ]
    },
    {
      "cell_type": "code",
      "execution_count": null,
      "id": "a2a9baef-5e06-4122-b0a8-432a304ea7f3",
      "metadata": {
        "id": "a2a9baef-5e06-4122-b0a8-432a304ea7f3",
        "outputId": "f3a6544a-e125-4114-813e-6407f3a4ae29",
        "colab": {
          "base_uri": "https://localhost:8080/"
        }
      },
      "outputs": [
        {
          "output_type": "stream",
          "name": "stdout",
          "text": [
            "Dot Product: [0 1 1 2]\n"
          ]
        }
      ],
      "source": [
        "dot_product = input_table @ weights\n",
        "print(f'Dot Product: {dot_product}')"
      ]
    },
    {
      "cell_type": "code",
      "execution_count": null,
      "id": "1bc9f2dc-4478-4895-8509-e36a8cfc4263",
      "metadata": {
        "id": "1bc9f2dc-4478-4895-8509-e36a8cfc4263",
        "outputId": "7b33b6e9-5173-422a-a087-4caca483bd65",
        "colab": {
          "base_uri": "https://localhost:8080/"
        }
      },
      "outputs": [
        {
          "output_type": "stream",
          "name": "stdout",
          "text": [
            "Activation: 0\n",
            "Activation: 0\n",
            "Activation: 0\n",
            "Activation: 1\n"
          ]
        }
      ],
      "source": [
        "#and\n",
        "T = 2\n",
        "for i in range(0,4):\n",
        "    activation = linear_threshold_gate(dot_product[i], T)\n",
        "    print(f'Activation: {activation}')"
      ]
    },
    {
      "cell_type": "code",
      "execution_count": null,
      "id": "5ed6a848-7289-4511-b547-04131f574a1d",
      "metadata": {
        "id": "5ed6a848-7289-4511-b547-04131f574a1d",
        "outputId": "12335bab-6dd5-45da-e60e-2ca6de49406c",
        "colab": {
          "base_uri": "https://localhost:8080/"
        }
      },
      "outputs": [
        {
          "output_type": "stream",
          "name": "stdout",
          "text": [
            "Activation: 0\n",
            "Activation: 1\n",
            "Activation: 1\n",
            "Activation: 1\n"
          ]
        }
      ],
      "source": [
        "#or\n",
        "#weights: all positive\n",
        "#threshold: 1\n",
        "T = 1\n",
        "for i in range(0,4):\n",
        "    activation = linear_threshold_gate(dot_product[i], T)\n",
        "    print(f'Activation: {activation}')"
      ]
    },
    {
      "cell_type": "code",
      "execution_count": null,
      "id": "1dc51b34-f465-4f70-bc59-61f8fe37f681",
      "metadata": {
        "id": "1dc51b34-f465-4f70-bc59-61f8fe37f681",
        "outputId": "a3aa3906-372e-4d1c-9dec-48a1c1a3ef5a",
        "colab": {
          "base_uri": "https://localhost:8080/"
        }
      },
      "outputs": [
        {
          "output_type": "stream",
          "name": "stdout",
          "text": [
            "weights: [-1 -1]\n"
          ]
        }
      ],
      "source": [
        "#nor\n",
        "#weights: all positive\n",
        "#threshold: 1\n",
        "weights = np.array([-1,-1])\n",
        "print(f'weights: {weights}')"
      ]
    },
    {
      "cell_type": "code",
      "execution_count": null,
      "id": "01edbdef-365e-40a2-9145-b676c14b520a",
      "metadata": {
        "id": "01edbdef-365e-40a2-9145-b676c14b520a",
        "outputId": "c25f70b5-5e04-4362-fd30-ed6bee8131c7",
        "colab": {
          "base_uri": "https://localhost:8080/"
        }
      },
      "outputs": [
        {
          "output_type": "stream",
          "name": "stdout",
          "text": [
            "Dot Product: [ 0 -1 -1 -2]\n"
          ]
        }
      ],
      "source": [
        "dot_product = input_table @ weights\n",
        "print(f'Dot Product: {dot_product}')"
      ]
    },
    {
      "cell_type": "code",
      "execution_count": null,
      "id": "e6faaea9-301c-4a22-bee1-4355da14fc07",
      "metadata": {
        "id": "e6faaea9-301c-4a22-bee1-4355da14fc07",
        "outputId": "e88a1798-3af9-438d-b2cc-2cf66dea9a1c",
        "colab": {
          "base_uri": "https://localhost:8080/"
        }
      },
      "outputs": [
        {
          "output_type": "stream",
          "name": "stdout",
          "text": [
            "Activation: 1\n",
            "Activation: 0\n",
            "Activation: 0\n",
            "Activation: 0\n"
          ]
        }
      ],
      "source": [
        "T = 0\n",
        "for i in range(0,4):\n",
        "    activation = linear_threshold_gate(dot_product[i], T)\n",
        "    print(f'Activation: {activation}')"
      ]
    },
    {
      "cell_type": "code",
      "execution_count": null,
      "id": "13968db4-bbfb-4594-a1bb-cdc54130baae",
      "metadata": {
        "id": "13968db4-bbfb-4594-a1bb-cdc54130baae"
      },
      "outputs": [],
      "source": []
    }
  ],
  "metadata": {
    "kernelspec": {
      "display_name": "Python 3 (ipykernel)",
      "language": "python",
      "name": "python3"
    },
    "language_info": {
      "codemirror_mode": {
        "name": "ipython",
        "version": 3
      },
      "file_extension": ".py",
      "mimetype": "text/x-python",
      "name": "python",
      "nbconvert_exporter": "python",
      "pygments_lexer": "ipython3",
      "version": "3.12.4"
    },
    "colab": {
      "provenance": [],
      "include_colab_link": true
    }
  },
  "nbformat": 4,
  "nbformat_minor": 5
}