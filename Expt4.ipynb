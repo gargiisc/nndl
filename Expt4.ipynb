{
  "cells": [
    {
      "cell_type": "markdown",
      "metadata": {
        "id": "view-in-github",
        "colab_type": "text"
      },
      "source": [
        "<a href=\"https://colab.research.google.com/github/gargiisc/nndl/blob/main/Expt4.ipynb\" target=\"_parent\"><img src=\"https://colab.research.google.com/assets/colab-badge.svg\" alt=\"Open In Colab\"/></a>"
      ]
    },
    {
      "cell_type": "code",
      "execution_count": 1,
      "id": "f43812f0-3c2d-49d6-b1cb-8226a0439520",
      "metadata": {
        "id": "f43812f0-3c2d-49d6-b1cb-8226a0439520"
      },
      "outputs": [],
      "source": [
        "import numpy as np\n",
        "import pandas as pd"
      ]
    },
    {
      "cell_type": "code",
      "execution_count": 2,
      "id": "595d6823-6691-48e9-a2aa-e59326825501",
      "metadata": {
        "colab": {
          "base_uri": "https://localhost:8080/"
        },
        "id": "595d6823-6691-48e9-a2aa-e59326825501",
        "outputId": "31b48a81-8ec2-41bd-cb39-9dafec015acb"
      },
      "outputs": [
        {
          "output_type": "stream",
          "name": "stdout",
          "text": [
            "[array([ 1. , -2. ,  1.5,  0. ]), array([ 1. , -0.5, -2. , -1.5]), array([ 0. ,  1. , -1. ,  1.5])]\n"
          ]
        }
      ],
      "source": [
        "w=np.array([1,-1,0,0.5]).transpose()\n",
        "Xi=[np.array([1,-2,1.5,0]).transpose(), np.array([1,-0.5,-2,-1.5]).transpose(), np.array([0,1,-1,1.5]).transpose()]\n",
        "C=1\n",
        "Iteration=0\n",
        "print(Xi)"
      ]
    },
    {
      "cell_type": "code",
      "execution_count": 3,
      "id": "fc994479-d40b-4363-8780-e929b51a68ce",
      "metadata": {
        "colab": {
          "base_uri": "https://localhost:8080/"
        },
        "id": "fc994479-d40b-4363-8780-e929b51a68ce",
        "outputId": "5a2ecb25-3f0b-46f4-9340-1c0136a262b1"
      },
      "outputs": [
        {
          "output_type": "stream",
          "name": "stdout",
          "text": [
            "weight vector: [ 2.  -3.   1.5  0.5]\n",
            "weight vector: [ 1.  -2.5  3.5  2. ]\n",
            "weight vector: [ 1.  -3.5  4.5  0.5]\n"
          ]
        }
      ],
      "source": [
        "for i in range(len(Xi)):\n",
        "    net=sum(w.transpose()*Xi[i])\n",
        "    Fnet=np.sign(net)\n",
        "    dw=C*Fnet*Xi[i]\n",
        "    w=w+dw\n",
        "    print('weight vector:',w)\n",
        "    Iteration+=1"
      ]
    },
    {
      "cell_type": "code",
      "execution_count": 4,
      "id": "a1c24ea5-044a-491d-b820-f379c3c79716",
      "metadata": {
        "colab": {
          "base_uri": "https://localhost:8080/"
        },
        "id": "a1c24ea5-044a-491d-b820-f379c3c79716",
        "outputId": "e166757d-7873-4058-9f75-6d575ac94f2f"
      },
      "outputs": [
        {
          "output_type": "stream",
          "name": "stdout",
          "text": [
            "Final vector:  [ 1.  -3.5  4.5  0.5]\n",
            "No. of iterations:  2\n"
          ]
        }
      ],
      "source": [
        "print('Final vector: ', w)\n",
        "print('No. of iterations: ', i)"
      ]
    },
    {
      "cell_type": "code",
      "execution_count": null,
      "id": "047a0dce-c205-4489-b7fa-1824a27ac71c",
      "metadata": {
        "id": "047a0dce-c205-4489-b7fa-1824a27ac71c"
      },
      "outputs": [],
      "source": []
    }
  ],
  "metadata": {
    "kernelspec": {
      "display_name": "Python 3 (ipykernel)",
      "language": "python",
      "name": "python3"
    },
    "language_info": {
      "codemirror_mode": {
        "name": "ipython",
        "version": 3
      },
      "file_extension": ".py",
      "mimetype": "text/x-python",
      "name": "python",
      "nbconvert_exporter": "python",
      "pygments_lexer": "ipython3",
      "version": "3.12.4"
    },
    "colab": {
      "provenance": [],
      "include_colab_link": true
    }
  },
  "nbformat": 4,
  "nbformat_minor": 5
}